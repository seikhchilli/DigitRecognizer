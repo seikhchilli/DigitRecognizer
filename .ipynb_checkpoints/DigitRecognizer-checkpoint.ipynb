{
 "cells": [
  {
   "cell_type": "code",
   "execution_count": 1,
   "id": "27afe581",
   "metadata": {},
   "outputs": [],
   "source": [
    "import numpy as np\n",
    "import pandas as pd\n",
    "import matplotlib.pyplot as plt\n",
    "import tensorflow as tf\n",
    "from tensorflow.keras.layers import Dense, Conv2D, MaxPooling2D, Flatten\n",
    "from tensorflow.keras.models import Sequential\n",
    "from sklearn.model_selection import train_test_split\n",
    "from sklearn.metrics import accuracy_score"
   ]
  },
  {
   "cell_type": "code",
   "execution_count": 2,
   "id": "e7205757",
   "metadata": {},
   "outputs": [],
   "source": [
    "gpus = tf.config.list_physical_devices('GPU')\n",
    "for gpu in gpus:\n",
    "    tf.config.experimental.set_memory_growth(gpu, True)"
   ]
  },
  {
   "cell_type": "markdown",
   "id": "d11f7049",
   "metadata": {},
   "source": [
    "# Train"
   ]
  },
  {
   "cell_type": "code",
   "execution_count": 3,
   "id": "c1d23d83",
   "metadata": {},
   "outputs": [],
   "source": [
    "df = pd.read_csv('train.csv')"
   ]
  },
  {
   "cell_type": "code",
   "execution_count": 4,
   "id": "a85d11e3",
   "metadata": {},
   "outputs": [
    {
     "name": "stdout",
     "output_type": "stream",
     "text": [
      "<class 'pandas.core.frame.DataFrame'>\n",
      "RangeIndex: 42000 entries, 0 to 41999\n",
      "Columns: 785 entries, label to pixel783\n",
      "dtypes: int64(785)\n",
      "memory usage: 251.5 MB\n"
     ]
    }
   ],
   "source": [
    "df.info()"
   ]
  },
  {
   "cell_type": "code",
   "execution_count": 5,
   "id": "675d8150",
   "metadata": {},
   "outputs": [],
   "source": [
    "X = df.loc[:, df.columns != 'label'].to_numpy()\n",
    "y = df['label'].to_numpy()"
   ]
  },
  {
   "cell_type": "code",
   "execution_count": 6,
   "id": "12b1963e",
   "metadata": {},
   "outputs": [],
   "source": [
    "X.resize(42000, 28, 28)"
   ]
  },
  {
   "cell_type": "code",
   "execution_count": 7,
   "id": "d6c9655d",
   "metadata": {},
   "outputs": [],
   "source": [
    "X = X / 255.0"
   ]
  },
  {
   "cell_type": "code",
   "execution_count": 8,
   "id": "43bc0a0e",
   "metadata": {},
   "outputs": [
    {
     "data": {
      "text/plain": [
       "<matplotlib.image.AxesImage at 0x15fd9e8d330>"
      ]
     },
     "execution_count": 8,
     "metadata": {},
     "output_type": "execute_result"
    },
    {
     "data": {
      "image/png": "[encoded data removed]",
      "text/plain": [
       "<Figure size 432x288 with 1 Axes>"
      ]
     },
     "metadata": {
      "needs_background": "light"
     },
     "output_type": "display_data"
    }
   ],
   "source": [
    "plt.imshow(X[0], cmap = 'gray')"
   ]
  },
  {
   "cell_type": "code",
   "execution_count": 9,
   "id": "9ff28393",
   "metadata": {},
   "outputs": [],
   "source": [
    "x_train, x_test, y_train, y_test = train_test_split(X, y, test_size = 0.3, random_state = 42)"
   ]
  },
  {
   "cell_type": "code",
   "execution_count": 10,
   "id": "96ba1a09",
   "metadata": {},
   "outputs": [],
   "source": [
    "x_test, x_dev, y_test, y_dev = train_test_split(x_test, y_test, test_size = 0.5)"
   ]
  },
  {
   "cell_type": "code",
   "execution_count": 47,
   "id": "35f6b598",
   "metadata": {},
   "outputs": [],
   "source": [
    "model = Sequential([\n",
    "    Conv2D(28, (3, 3), activation = \"relu\", input_shape = (28, 28, 1)),\n",
    "    MaxPooling2D(2, 2),\n",
    "    Conv2D(64, (3, 3), activation = \"relu\"),\n",
    "    MaxPooling2D(2, 2),\n",
    "    Conv2D(64, (3, 3), activation = \"relu\"),\n",
    "    MaxPooling2D(2, 2),\n",
    "    Flatten(),\n",
    "    Dense(64, activation = \"relu\"),\n",
    "    Dense(10)\n",
    "], name = 'my_model')"
   ]
  },
  {
   "cell_type": "code",
   "execution_count": 48,
   "id": "758fdb94",
   "metadata": {},
   "outputs": [],
   "source": [
    "model.compile(loss = tf.keras.losses.SparseCategoricalCrossentropy(from_logits = True),\n",
    "             optimizer = tf.keras.optimizers.Adam(),\n",
    "              metrics = ['accuracy']\n",
    "             )"
   ]
  },
  {
   "cell_type": "code",
   "execution_count": 49,
   "id": "6fc0d4f1",
   "metadata": {},
   "outputs": [
    {
     "name": "stdout",
     "output_type": "stream",
     "text": [
      "Epoch 1/10\n",
      "1838/1838 [==============================] - 11s 5ms/step - loss: 0.2891 - accuracy: 0.9090 - val_loss: 0.1246 - val_accuracy: 0.9613\n",
      "Epoch 2/10\n",
      "1838/1838 [==============================] - 10s 5ms/step - loss: 0.0987 - accuracy: 0.9690 - val_loss: 0.0776 - val_accuracy: 0.9746\n",
      "Epoch 3/10\n",
      "1838/1838 [==============================] - 10s 5ms/step - loss: 0.0661 - accuracy: 0.9793 - val_loss: 0.0912 - val_accuracy: 0.9719\n",
      "Epoch 4/10\n",
      "1838/1838 [==============================] - 10s 6ms/step - loss: 0.0519 - accuracy: 0.9841 - val_loss: 0.0673 - val_accuracy: 0.9806\n",
      "Epoch 5/10\n",
      "1838/1838 [==============================] - 11s 6ms/step - loss: 0.0417 - accuracy: 0.9865 - val_loss: 0.0606 - val_accuracy: 0.9827\n",
      "Epoch 6/10\n",
      "1838/1838 [==============================] - 12s 6ms/step - loss: 0.0332 - accuracy: 0.9893 - val_loss: 0.0561 - val_accuracy: 0.9840\n",
      "Epoch 7/10\n",
      "1838/1838 [==============================] - 10s 5ms/step - loss: 0.0259 - accuracy: 0.9915 - val_loss: 0.0738 - val_accuracy: 0.9825\n",
      "Epoch 8/10\n",
      "1838/1838 [==============================] - 14s 7ms/step - loss: 0.0237 - accuracy: 0.9922 - val_loss: 0.0896 - val_accuracy: 0.9805\n",
      "Epoch 9/10\n",
      "1838/1838 [==============================] - 11s 6ms/step - loss: 0.0229 - accuracy: 0.9921 - val_loss: 0.0769 - val_accuracy: 0.9806\n",
      "Epoch 10/10\n",
      "1838/1838 [==============================] - 10s 5ms/step - loss: 0.0180 - accuracy: 0.9940 - val_loss: 0.0643 - val_accuracy: 0.9841\n"
     ]
    },
    {
     "data": {
      "text/plain": [
       "<keras.callbacks.History at 0x1609d62b700>"
      ]
     },
     "execution_count": 49,
     "metadata": {},
     "output_type": "execute_result"
    }
   ],
   "source": [
    "model.fit(x_train, y_train, epochs = 10, validation_data = (x_test, y_test), batch_size = 16)"
   ]
  },
  {
   "cell_type": "code",
   "execution_count": null,
   "id": "28377e16",
   "metadata": {},
   "outputs": [],
   "source": [
    "logits = model(x_dev)\n",
    "y_dev_pred = tf.nn.softmax(logits)"
   ]
  },
  {
   "cell_type": "code",
   "execution_count": null,
   "id": "7e69f69a",
   "metadata": {},
   "outputs": [],
   "source": [
    "y_dev_pred = np.argmax(y_dev_pred, axis = 1)"
   ]
  },
  {
   "cell_type": "code",
   "execution_count": null,
   "id": "5eb43213",
   "metadata": {},
   "outputs": [],
   "source": [
    "logits = model(x_train)\n",
    "y_train_pred = tf.nn.softmax(logits)\n",
    "y_train_pred = np.argmax(y_train_pred, axis = 1)"
   ]
  },
  {
   "cell_type": "code",
   "execution_count": null,
   "id": "696d83c3",
   "metadata": {},
   "outputs": [],
   "source": [
    "accuracy_score(y_train, y_train_pred)"
   ]
  },
  {
   "cell_type": "code",
   "execution_count": null,
   "id": "4f39d254",
   "metadata": {},
   "outputs": [],
   "source": [
    "accuracy_score(y_dev, y_dev_pred)"
   ]
  },
  {
   "cell_type": "markdown",
   "id": "b7fae332",
   "metadata": {},
   "source": [
    "# Test"
   ]
  },
  {
   "cell_type": "code",
   "execution_count": 35,
   "id": "446e2323",
   "metadata": {},
   "outputs": [],
   "source": [
    "test_df = pd.read_csv('test.csv')"
   ]
  },
  {
   "cell_type": "code",
   "execution_count": 36,
   "id": "69b75262",
   "metadata": {},
   "outputs": [],
   "source": [
    "test_X = test_df.to_numpy()"
   ]
  },
  {
   "cell_type": "code",
   "execution_count": 37,
   "id": "c1ea7d93",
   "metadata": {},
   "outputs": [
    {
     "data": {
      "text/plain": [
       "(28000, 784)"
      ]
     },
     "execution_count": 37,
     "metadata": {},
     "output_type": "execute_result"
    }
   ],
   "source": [
    "test_X.shape"
   ]
  },
  {
   "cell_type": "code",
   "execution_count": 46,
   "id": "579ffb51",
   "metadata": {},
   "outputs": [
    {
     "data": {
      "text/plain": [
       "(28000, 28, 28)"
      ]
     },
     "execution_count": 46,
     "metadata": {},
     "output_type": "execute_result"
    }
   ],
   "source": [
    "test_X.shape"
   ]
  },
  {
   "cell_type": "code",
   "execution_count": 38,
   "id": "995745c2",
   "metadata": {},
   "outputs": [],
   "source": [
    "test_X.resize(28000, 28, 28)"
   ]
  },
  {
   "cell_type": "code",
   "execution_count": 39,
   "id": "cacbad48",
   "metadata": {},
   "outputs": [],
   "source": [
    "test_X = test_X / 255.0"
   ]
  },
  {
   "cell_type": "code",
   "execution_count": 44,
   "id": "e806c9ff",
   "metadata": {},
   "outputs": [
    {
     "ename": "ResourceExhaustedError",
     "evalue": "Exception encountered when calling layer \"conv2d_9\" \"                 f\"(type Conv2D).\n\n{{function_node __wrapped__Conv2D_device_/job:localhost/replica:0/task:0/device:GPU:0}} OOM when allocating tensor with shape[28000,26,26,32] and type float on /job:localhost/replica:0/task:0/device:GPU:0 by allocator GPU_0_bfc [Op:Conv2D]\n\nCall arguments received by layer \"conv2d_9\" \"                 f\"(type Conv2D):\n  • inputs=tf.Tensor(shape=(28000, 28, 28, 1), dtype=float32)",
     "output_type": "error",
     "traceback": [
      "\u001b[1;31m---------------------------------------------------------------------------\u001b[0m",
      "\u001b[1;31mResourceExhaustedError\u001b[0m                    Traceback (most recent call last)",
      "Input \u001b[1;32mIn [44]\u001b[0m, in \u001b[0;36m<cell line: 1>\u001b[1;34m()\u001b[0m\n\u001b[1;32m----> 1\u001b[0m logits \u001b[38;5;241m=\u001b[39m model(test_X)\n\u001b[0;32m      2\u001b[0m test_y_pred \u001b[38;5;241m=\u001b[39m tf\u001b[38;5;241m.\u001b[39mnn\u001b[38;5;241m.\u001b[39msoftmax(logits)\n\u001b[0;32m      3\u001b[0m test_y_pred \u001b[38;5;241m=\u001b[39m np\u001b[38;5;241m.\u001b[39margmax(test_y_pred, axis \u001b[38;5;241m=\u001b[39m \u001b[38;5;241m1\u001b[39m)\n",
      "File \u001b[1;32m~\\AppData\\Local\\Programs\\Python\\Python310\\lib\\site-packages\\keras\\utils\\traceback_utils.py:70\u001b[0m, in \u001b[0;36mfilter_traceback.<locals>.error_handler\u001b[1;34m(*args, **kwargs)\u001b[0m\n\u001b[0;32m     67\u001b[0m     filtered_tb \u001b[38;5;241m=\u001b[39m _process_traceback_frames(e\u001b[38;5;241m.\u001b[39m__traceback__)\n\u001b[0;32m     68\u001b[0m     \u001b[38;5;66;03m# To get the full stack trace, call:\u001b[39;00m\n\u001b[0;32m     69\u001b[0m     \u001b[38;5;66;03m# `tf.debugging.disable_traceback_filtering()`\u001b[39;00m\n\u001b[1;32m---> 70\u001b[0m     \u001b[38;5;28;01mraise\u001b[39;00m e\u001b[38;5;241m.\u001b[39mwith_traceback(filtered_tb) \u001b[38;5;28;01mfrom\u001b[39;00m \u001b[38;5;28mNone\u001b[39m\n\u001b[0;32m     71\u001b[0m \u001b[38;5;28;01mfinally\u001b[39;00m:\n\u001b[0;32m     72\u001b[0m     \u001b[38;5;28;01mdel\u001b[39;00m filtered_tb\n",
      "File \u001b[1;32m~\\AppData\\Local\\Programs\\Python\\Python310\\lib\\site-packages\\tensorflow\\python\\framework\\ops.py:7209\u001b[0m, in \u001b[0;36mraise_from_not_ok_status\u001b[1;34m(e, name)\u001b[0m\n\u001b[0;32m   7207\u001b[0m \u001b[38;5;28;01mdef\u001b[39;00m \u001b[38;5;21mraise_from_not_ok_status\u001b[39m(e, name):\n\u001b[0;32m   7208\u001b[0m   e\u001b[38;5;241m.\u001b[39mmessage \u001b[38;5;241m+\u001b[39m\u001b[38;5;241m=\u001b[39m (\u001b[38;5;124m\"\u001b[39m\u001b[38;5;124m name: \u001b[39m\u001b[38;5;124m\"\u001b[39m \u001b[38;5;241m+\u001b[39m name \u001b[38;5;28;01mif\u001b[39;00m name \u001b[38;5;129;01mis\u001b[39;00m \u001b[38;5;129;01mnot\u001b[39;00m \u001b[38;5;28;01mNone\u001b[39;00m \u001b[38;5;28;01melse\u001b[39;00m \u001b[38;5;124m\"\u001b[39m\u001b[38;5;124m\"\u001b[39m)\n\u001b[1;32m-> 7209\u001b[0m   \u001b[38;5;28;01mraise\u001b[39;00m core\u001b[38;5;241m.\u001b[39m_status_to_exception(e) \u001b[38;5;28;01mfrom\u001b[39;00m \u001b[38;5;28mNone\u001b[39m\n",
      "\u001b[1;31mResourceExhaustedError\u001b[0m: Exception encountered when calling layer \"conv2d_9\" \"                 f\"(type Conv2D).\n\n{{function_node __wrapped__Conv2D_device_/job:localhost/replica:0/task:0/device:GPU:0}} OOM when allocating tensor with shape[28000,26,26,32] and type float on /job:localhost/replica:0/task:0/device:GPU:0 by allocator GPU_0_bfc [Op:Conv2D]\n\nCall arguments received by layer \"conv2d_9\" \"                 f\"(type Conv2D):\n  • inputs=tf.Tensor(shape=(28000, 28, 28, 1), dtype=float32)"
     ]
    }
   ],
   "source": [
    "logits = model(test_X)\n",
    "test_y_pred = tf.nn.softmax(logits)\n",
    "test_y_pred = np.argmax(test_y_pred, axis = 1)"
   ]
  },
  {
   "cell_type": "code",
   "execution_count": null,
   "id": "f87f4433",
   "metadata": {},
   "outputs": [],
   "source": [
    "test_y_pred"
   ]
  },
  {
   "cell_type": "code",
   "execution_count": null,
   "id": "12e749d6",
   "metadata": {},
   "outputs": [],
   "source": [
    "fig, axis = plt.subplots(10, 5, figsize = (13, 15))\n",
    "axis = axis.flatten()\n",
    "for i in range(len(axis)):\n",
    "    axis[i].imshow(test_X[i].reshape(28, 28), cmap = 'gray')\n",
    "    axis[i].set_title(test_y_pred[i])\n",
    "\n",
    "plt.show()"
   ]
  },
  {
   "cell_type": "code",
   "execution_count": null,
   "id": "5b64c737",
   "metadata": {},
   "outputs": [],
   "source": [
    "submission_df = pd.DataFrame({\"Label\" : test_y_pred})"
   ]
  },
  {
   "cell_type": "code",
   "execution_count": null,
   "id": "9b25df6f",
   "metadata": {},
   "outputs": [],
   "source": [
    "submission_df.index += 1\n",
    "submission_df.index.name = 'ImageId'"
   ]
  },
  {
   "cell_type": "code",
   "execution_count": null,
   "id": "05b3a464",
   "metadata": {},
   "outputs": [],
   "source": [
    "submission_df"
   ]
  },
  {
   "cell_type": "code",
   "execution_count": null,
   "id": "ec8a5b07",
   "metadata": {},
   "outputs": [],
   "source": [
    "submission_df.to_csv(\"submission.csv\")"
   ]
  },
  {
   "cell_type": "code",
   "execution_count": null,
   "id": "4f106c77",
   "metadata": {},
   "outputs": [],
   "source": []
  },
  {
   "cell_type": "code",
   "execution_count": null,
   "id": "834bd414",
   "metadata": {},
   "outputs": [],
   "source": []
  }
 ],
 "metadata": {
  "kernelspec": {
   "display_name": "Python 3 (ipykernel)",
   "language": "python",
   "name": "python3"
  },
  "language_info": {
   "codemirror_mode": {
    "name": "ipython",
    "version": 3
   },
   "file_extension": ".py",
   "mimetype": "text/x-python",
   "name": "python",
   "nbconvert_exporter": "python",
   "pygments_lexer": "ipython3",
   "version": "3.10.8"
  }
 },
 "nbformat": 4,
 "nbformat_minor": 5
}
